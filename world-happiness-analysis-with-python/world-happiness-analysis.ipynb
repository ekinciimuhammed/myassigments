{
  "cells": [
    {
      "cell_type": "markdown",
      "metadata": {
        "id": "-JsD4n549KSW"
      },
      "source": [
        "# **AIN 214 - PA1 - FALL 2024**"
      ]
    },
    {
      "cell_type": "markdown",
      "metadata": {
        "id": "jeu4gamv8uxb"
      },
      "source": [
        "**Student Number** :\n",
        "\n",
        "**Name Surname**   :"
      ]
    },
    {
      "cell_type": "markdown",
      "metadata": {
        "id": "so7UTKwA8ULy"
      },
      "source": [
        "\n",
        "BELOW MD CELLS CONTAIN THE QUESTIONS YOU ARE ASKED TO IMPLEMENT WITHIN THE CONTEXT OF THIS HW. PLEASE FILL IN THE CELLS FOR THE ANSWERS RIGHT BELOW THE MD CELL OF THE QUESTION. YOU CAN ADD AS MANY CELLS AS YOU WANT, BE IT CODE OR MD, SO LONG AS YOU PROVIDE AN UNDERSTANDABLE AND TRACBLE REPORTING. PLEASE ADD COMMENTS ON YOUR CODES. ALSO, FILL IN MD CELLS WHERE YOU ARE ASKED YO COMMENT ON YOUR RESULTS OR EPXLAIN YOUR REASONING. ALSO, PLEASE DO NO HESITATE TO USE THEM FOR YOUR OWN REPORTING PURPOSES. PLEASE KEEP IN MIND THAT, REPORTING IS A KEY STEP IN DATA SCIENCE.\n",
        "\n",
        "**Deadline: 18.10.2023 (23:59:59)**\n",
        "\n",
        "**Submission:** Submit your Jupyter Notebooks via https://submit.cs.hacettepe.edu.tr/"
      ]
    },
    {
      "cell_type": "markdown",
      "metadata": {
        "id": "l9crUPV39bKP"
      },
      "source": [
        "# **Necessary Imports**"
      ]
    },
    {
      "cell_type": "code",
      "execution_count": null,
      "metadata": {
        "id": "bDF8rpnv9kjd"
      },
      "outputs": [],
      "source": [
        "# Import required libraries\n",
        "import pandas as pd\n",
        "import numpy as np\n"
      ]
    },
    {
      "cell_type": "markdown",
      "metadata": {
        "id": "YzjmuhYk90CY"
      },
      "source": [
        "# **Notes:**\n",
        "\n",
        "* Use pandas dataframe (df) to load the data.\n",
        "\n",
        "* Use numpy or pandas operations for the requested tasks unless otherwise specified.\n",
        "\n",
        "* Use of naive for loops is not considered valid.\n",
        "\n",
        "* For the db operations, use sqlite3 library in Python"
      ]
    },
    {
      "cell_type": "markdown",
      "metadata": {
        "id": "ErBKcN6KBvW8"
      },
      "source": [
        "# **PART- 1**\n",
        "\n",
        "**Set of Questions on World Happiness Report Dataset (40 Pts)**\n",
        "\n",
        "**Dataset Path: \"Data/WorldHappinessReport.csv\"**"
      ]
    },
    {
      "cell_type": "markdown",
      "metadata": {
        "id": "GWggnrTxCQJD"
      },
      "source": [
        "# Q1. Basic Data Exploration **(10 Pts)**\n",
        "\n",
        "1. Load the data into Pandas DataFrame and print the column names. **(1 pts)**\n",
        "2. Display the first and last 10 rows of the dataset. **(1 pts)**\n",
        "3. Display random 10 rows. **(1 pts)**\n",
        "4. Display random 10 rows with a seed, ie, it outputs the same random rows everytime it is run. **(1 pts)**\n",
        "5. Display every 10th row. **(1 pts)**\n",
        "6. Get the summary stats of the dataset regarding each column. **(2 pts)**\n",
        "7. Identify and count the number of missing values in each column. **(3 pts)**"
      ]
    },
    {
      "cell_type": "code",
      "execution_count": null,
      "metadata": {
        "id": "_NzJ6GYkD1aY"
      },
      "outputs": [],
      "source": [
        "#1 Load the data into Pandas DataFrame and print the column names\n",
        "# Import required libraries\n",
        "import pandas as pd\n",
        "import numpy as np\n",
        "df=pd.read_csv(\"Data/WorldHappinessReport.csv\")"
      ]
    },
    {
      "cell_type": "code",
      "execution_count": null,
      "metadata": {
        "id": "Z-m2CigRD26Z",
        "outputId": "3fc18a60-ca55-473e-fcd0-e142caff10cf"
      },
      "outputs": [
        {
          "name": "stdout",
          "output_type": "stream",
          "text": [
            "   Overall rank Country or region  Score  GDP per capita  Social support  \\\n",
            "0             1           Finland  7.632           1.305           1.592   \n",
            "1             2            Norway  7.594           1.456           1.582   \n",
            "2             3           Denmark  7.555           1.351           1.590   \n",
            "3             4           Iceland  7.495           1.343           1.644   \n",
            "4             5       Switzerland  7.487           1.420           1.549   \n",
            "5             6       Netherlands  7.441           1.361           1.488   \n",
            "6             7            Canada  7.328           1.330           1.532   \n",
            "7             8       New Zealand  7.324           1.268           1.601   \n",
            "8             9            Sweden  7.314           1.355           1.501   \n",
            "9            10         Australia  7.272           1.340           1.573   \n",
            "\n",
            "   Healthy life expectancy  Freedom to make life choices  Generosity  \\\n",
            "0                    0.874                         0.681       0.202   \n",
            "1                    0.861                         0.686       0.286   \n",
            "2                    0.868                         0.683       0.284   \n",
            "3                    0.914                         0.677       0.353   \n",
            "4                    0.927                         0.660       0.256   \n",
            "5                    0.878                         0.638       0.333   \n",
            "6                    0.896                         0.653       0.321   \n",
            "7                    0.876                         0.669       0.365   \n",
            "8                    0.913                         0.659       0.285   \n",
            "9                    0.910                         0.647       0.361   \n",
            "\n",
            "   Perceptions of corruption  \n",
            "0                      0.393  \n",
            "1                      0.340  \n",
            "2                      0.408  \n",
            "3                      0.138  \n",
            "4                      0.357  \n",
            "5                      0.295  \n",
            "6                      0.291  \n",
            "7                      0.389  \n",
            "8                      0.383  \n",
            "9                      0.302  \n",
            "     Overall rank         Country or region  Score  GDP per capita  \\\n",
            "146           147                    Malawi  3.587           0.186   \n",
            "147           148                     Haiti  3.582           0.315   \n",
            "148           149                   Liberia  3.495           0.076   \n",
            "149           150                     Syria  3.462           0.689   \n",
            "150           151                    Rwanda  3.408           0.332   \n",
            "151           152                     Yemen  3.355           0.442   \n",
            "152           153                  Tanzania  3.303           0.455   \n",
            "153           154               South Sudan  3.254           0.337   \n",
            "154           155  Central African Republic  3.083           0.024   \n",
            "155           156                   Burundi  2.905           0.091   \n",
            "\n",
            "     Social support  Healthy life expectancy  Freedom to make life choices  \\\n",
            "146           0.541                    0.306                         0.531   \n",
            "147           0.714                    0.289                         0.025   \n",
            "148           0.858                    0.267                         0.419   \n",
            "149           0.382                    0.539                         0.088   \n",
            "150           0.896                    0.400                         0.636   \n",
            "151           1.073                    0.343                         0.244   \n",
            "152           0.991                    0.381                         0.481   \n",
            "153           0.608                    0.177                         0.112   \n",
            "154           0.000                    0.010                         0.305   \n",
            "155           0.627                    0.145                         0.065   \n",
            "\n",
            "     Generosity  Perceptions of corruption  \n",
            "146       0.210                      0.080  \n",
            "147       0.392                      0.104  \n",
            "148       0.206                      0.030  \n",
            "149       0.376                      0.144  \n",
            "150       0.200                      0.444  \n",
            "151       0.083                      0.064  \n",
            "152       0.270                      0.097  \n",
            "153       0.224                      0.106  \n",
            "154       0.218                      0.038  \n",
            "155       0.149                      0.076  \n"
          ]
        }
      ],
      "source": [
        "#2 Display the first and last 10 rows of the dataset.\n",
        "#first 10 rows\n",
        "print(df.head(10))\n",
        "#last 10 rows\n",
        "print(df.tail(10))"
      ]
    },
    {
      "cell_type": "code",
      "execution_count": null,
      "metadata": {
        "id": "XmyRJcvED4P2",
        "outputId": "a1ef360a-67fb-4381-c080-195f26b6bce5"
      },
      "outputs": [
        {
          "data": {
            "text/html": [
              "<div>\n",
              "<style scoped>\n",
              "    .dataframe tbody tr th:only-of-type {\n",
              "        vertical-align: middle;\n",
              "    }\n",
              "\n",
              "    .dataframe tbody tr th {\n",
              "        vertical-align: top;\n",
              "    }\n",
              "\n",
              "    .dataframe thead th {\n",
              "        text-align: right;\n",
              "    }\n",
              "</style>\n",
              "<table border=\"1\" class=\"dataframe\">\n",
              "  <thead>\n",
              "    <tr style=\"text-align: right;\">\n",
              "      <th></th>\n",
              "      <th>Overall rank</th>\n",
              "      <th>Country or region</th>\n",
              "      <th>Score</th>\n",
              "      <th>GDP per capita</th>\n",
              "      <th>Social support</th>\n",
              "      <th>Healthy life expectancy</th>\n",
              "      <th>Freedom to make life choices</th>\n",
              "      <th>Generosity</th>\n",
              "      <th>Perceptions of corruption</th>\n",
              "    </tr>\n",
              "  </thead>\n",
              "  <tbody>\n",
              "    <tr>\n",
              "      <th>65</th>\n",
              "      <td>66</td>\n",
              "      <td>Kosovo</td>\n",
              "      <td>5.662</td>\n",
              "      <td>0.855</td>\n",
              "      <td>1.230</td>\n",
              "      <td>0.578</td>\n",
              "      <td>0.448</td>\n",
              "      <td>0.274</td>\n",
              "      <td>0.023</td>\n",
              "    </tr>\n",
              "    <tr>\n",
              "      <th>30</th>\n",
              "      <td>31</td>\n",
              "      <td>Uruguay</td>\n",
              "      <td>6.379</td>\n",
              "      <td>1.093</td>\n",
              "      <td>1.459</td>\n",
              "      <td>0.771</td>\n",
              "      <td>0.625</td>\n",
              "      <td>0.130</td>\n",
              "      <td>0.155</td>\n",
              "    </tr>\n",
              "    <tr>\n",
              "      <th>104</th>\n",
              "      <td>105</td>\n",
              "      <td>South Africa</td>\n",
              "      <td>4.724</td>\n",
              "      <td>0.940</td>\n",
              "      <td>1.410</td>\n",
              "      <td>0.330</td>\n",
              "      <td>0.516</td>\n",
              "      <td>0.103</td>\n",
              "      <td>0.056</td>\n",
              "    </tr>\n",
              "    <tr>\n",
              "      <th>76</th>\n",
              "      <td>77</td>\n",
              "      <td>Portugal</td>\n",
              "      <td>5.410</td>\n",
              "      <td>1.188</td>\n",
              "      <td>1.429</td>\n",
              "      <td>0.884</td>\n",
              "      <td>0.562</td>\n",
              "      <td>0.055</td>\n",
              "      <td>0.017</td>\n",
              "    </tr>\n",
              "    <tr>\n",
              "      <th>11</th>\n",
              "      <td>12</td>\n",
              "      <td>Austria</td>\n",
              "      <td>7.139</td>\n",
              "      <td>1.341</td>\n",
              "      <td>1.504</td>\n",
              "      <td>0.891</td>\n",
              "      <td>0.617</td>\n",
              "      <td>0.242</td>\n",
              "      <td>0.224</td>\n",
              "    </tr>\n",
              "    <tr>\n",
              "      <th>7</th>\n",
              "      <td>8</td>\n",
              "      <td>New Zealand</td>\n",
              "      <td>7.324</td>\n",
              "      <td>1.268</td>\n",
              "      <td>1.601</td>\n",
              "      <td>0.876</td>\n",
              "      <td>0.669</td>\n",
              "      <td>0.365</td>\n",
              "      <td>0.389</td>\n",
              "    </tr>\n",
              "    <tr>\n",
              "      <th>68</th>\n",
              "      <td>69</td>\n",
              "      <td>Hungary</td>\n",
              "      <td>5.620</td>\n",
              "      <td>1.171</td>\n",
              "      <td>1.401</td>\n",
              "      <td>0.732</td>\n",
              "      <td>0.259</td>\n",
              "      <td>0.061</td>\n",
              "      <td>0.022</td>\n",
              "    </tr>\n",
              "    <tr>\n",
              "      <th>58</th>\n",
              "      <td>59</td>\n",
              "      <td>Russia</td>\n",
              "      <td>5.810</td>\n",
              "      <td>1.151</td>\n",
              "      <td>1.479</td>\n",
              "      <td>0.599</td>\n",
              "      <td>0.399</td>\n",
              "      <td>0.065</td>\n",
              "      <td>0.025</td>\n",
              "    </tr>\n",
              "    <tr>\n",
              "      <th>129</th>\n",
              "      <td>130</td>\n",
              "      <td>Myanmar</td>\n",
              "      <td>4.308</td>\n",
              "      <td>0.682</td>\n",
              "      <td>1.174</td>\n",
              "      <td>0.429</td>\n",
              "      <td>0.580</td>\n",
              "      <td>0.598</td>\n",
              "      <td>0.178</td>\n",
              "    </tr>\n",
              "    <tr>\n",
              "      <th>93</th>\n",
              "      <td>94</td>\n",
              "      <td>Mongolia</td>\n",
              "      <td>5.125</td>\n",
              "      <td>0.914</td>\n",
              "      <td>1.517</td>\n",
              "      <td>0.575</td>\n",
              "      <td>0.395</td>\n",
              "      <td>0.253</td>\n",
              "      <td>0.032</td>\n",
              "    </tr>\n",
              "  </tbody>\n",
              "</table>\n",
              "</div>"
            ],
            "text/plain": [
              "     Overall rank Country or region  Score  GDP per capita  Social support  \\\n",
              "65             66            Kosovo  5.662           0.855           1.230   \n",
              "30             31           Uruguay  6.379           1.093           1.459   \n",
              "104           105      South Africa  4.724           0.940           1.410   \n",
              "76             77          Portugal  5.410           1.188           1.429   \n",
              "11             12           Austria  7.139           1.341           1.504   \n",
              "7               8       New Zealand  7.324           1.268           1.601   \n",
              "68             69           Hungary  5.620           1.171           1.401   \n",
              "58             59            Russia  5.810           1.151           1.479   \n",
              "129           130           Myanmar  4.308           0.682           1.174   \n",
              "93             94          Mongolia  5.125           0.914           1.517   \n",
              "\n",
              "     Healthy life expectancy  Freedom to make life choices  Generosity  \\\n",
              "65                     0.578                         0.448       0.274   \n",
              "30                     0.771                         0.625       0.130   \n",
              "104                    0.330                         0.516       0.103   \n",
              "76                     0.884                         0.562       0.055   \n",
              "11                     0.891                         0.617       0.242   \n",
              "7                      0.876                         0.669       0.365   \n",
              "68                     0.732                         0.259       0.061   \n",
              "58                     0.599                         0.399       0.065   \n",
              "129                    0.429                         0.580       0.598   \n",
              "93                     0.575                         0.395       0.253   \n",
              "\n",
              "     Perceptions of corruption  \n",
              "65                       0.023  \n",
              "30                       0.155  \n",
              "104                      0.056  \n",
              "76                       0.017  \n",
              "11                       0.224  \n",
              "7                        0.389  \n",
              "68                       0.022  \n",
              "58                       0.025  \n",
              "129                      0.178  \n",
              "93                       0.032  "
            ]
          },
          "execution_count": 9,
          "metadata": {},
          "output_type": "execute_result"
        }
      ],
      "source": [
        "#3 Display the random 10 rows\n",
        "print(df.sample(10))"
      ]
    },
    {
      "cell_type": "code",
      "execution_count": null,
      "metadata": {
        "id": "N9MA5WPBD5zt",
        "outputId": "74adf2eb-d400-448e-e229-f0559e2668d9"
      },
      "outputs": [
        {
          "data": {
            "text/html": [
              "<div>\n",
              "<style scoped>\n",
              "    .dataframe tbody tr th:only-of-type {\n",
              "        vertical-align: middle;\n",
              "    }\n",
              "\n",
              "    .dataframe tbody tr th {\n",
              "        vertical-align: top;\n",
              "    }\n",
              "\n",
              "    .dataframe thead th {\n",
              "        text-align: right;\n",
              "    }\n",
              "</style>\n",
              "<table border=\"1\" class=\"dataframe\">\n",
              "  <thead>\n",
              "    <tr style=\"text-align: right;\">\n",
              "      <th></th>\n",
              "      <th>Overall rank</th>\n",
              "      <th>Country or region</th>\n",
              "      <th>Score</th>\n",
              "      <th>GDP per capita</th>\n",
              "      <th>Social support</th>\n",
              "      <th>Healthy life expectancy</th>\n",
              "      <th>Freedom to make life choices</th>\n",
              "      <th>Generosity</th>\n",
              "      <th>Perceptions of corruption</th>\n",
              "    </tr>\n",
              "  </thead>\n",
              "  <tbody>\n",
              "    <tr>\n",
              "      <th>147</th>\n",
              "      <td>148</td>\n",
              "      <td>Haiti</td>\n",
              "      <td>3.582</td>\n",
              "      <td>0.315</td>\n",
              "      <td>0.714</td>\n",
              "      <td>0.289</td>\n",
              "      <td>0.025</td>\n",
              "      <td>0.392</td>\n",
              "      <td>0.104</td>\n",
              "    </tr>\n",
              "    <tr>\n",
              "      <th>87</th>\n",
              "      <td>88</td>\n",
              "      <td>Tajikistan</td>\n",
              "      <td>5.199</td>\n",
              "      <td>0.474</td>\n",
              "      <td>1.166</td>\n",
              "      <td>0.598</td>\n",
              "      <td>0.292</td>\n",
              "      <td>0.187</td>\n",
              "      <td>0.034</td>\n",
              "    </tr>\n",
              "    <tr>\n",
              "      <th>88</th>\n",
              "      <td>89</td>\n",
              "      <td>Macedonia</td>\n",
              "      <td>5.185</td>\n",
              "      <td>0.959</td>\n",
              "      <td>1.239</td>\n",
              "      <td>0.691</td>\n",
              "      <td>0.394</td>\n",
              "      <td>0.173</td>\n",
              "      <td>0.052</td>\n",
              "    </tr>\n",
              "    <tr>\n",
              "      <th>152</th>\n",
              "      <td>153</td>\n",
              "      <td>Tanzania</td>\n",
              "      <td>3.303</td>\n",
              "      <td>0.455</td>\n",
              "      <td>0.991</td>\n",
              "      <td>0.381</td>\n",
              "      <td>0.481</td>\n",
              "      <td>0.270</td>\n",
              "      <td>0.097</td>\n",
              "    </tr>\n",
              "    <tr>\n",
              "      <th>40</th>\n",
              "      <td>41</td>\n",
              "      <td>Nicaragua</td>\n",
              "      <td>6.141</td>\n",
              "      <td>0.668</td>\n",
              "      <td>1.319</td>\n",
              "      <td>0.700</td>\n",
              "      <td>0.527</td>\n",
              "      <td>0.208</td>\n",
              "      <td>0.128</td>\n",
              "    </tr>\n",
              "    <tr>\n",
              "      <th>61</th>\n",
              "      <td>62</td>\n",
              "      <td>Bolivia</td>\n",
              "      <td>5.752</td>\n",
              "      <td>0.751</td>\n",
              "      <td>1.223</td>\n",
              "      <td>0.508</td>\n",
              "      <td>0.606</td>\n",
              "      <td>0.141</td>\n",
              "      <td>0.054</td>\n",
              "    </tr>\n",
              "    <tr>\n",
              "      <th>80</th>\n",
              "      <td>81</td>\n",
              "      <td>Montenegro</td>\n",
              "      <td>5.347</td>\n",
              "      <td>1.017</td>\n",
              "      <td>1.279</td>\n",
              "      <td>0.729</td>\n",
              "      <td>0.259</td>\n",
              "      <td>0.111</td>\n",
              "      <td>0.081</td>\n",
              "    </tr>\n",
              "    <tr>\n",
              "      <th>23</th>\n",
              "      <td>24</td>\n",
              "      <td>Mexico</td>\n",
              "      <td>6.488</td>\n",
              "      <td>1.038</td>\n",
              "      <td>1.252</td>\n",
              "      <td>0.761</td>\n",
              "      <td>0.479</td>\n",
              "      <td>0.069</td>\n",
              "      <td>0.095</td>\n",
              "    </tr>\n",
              "    <tr>\n",
              "      <th>85</th>\n",
              "      <td>86</td>\n",
              "      <td>China</td>\n",
              "      <td>5.246</td>\n",
              "      <td>0.989</td>\n",
              "      <td>1.142</td>\n",
              "      <td>0.799</td>\n",
              "      <td>0.597</td>\n",
              "      <td>0.029</td>\n",
              "      <td>0.103</td>\n",
              "    </tr>\n",
              "    <tr>\n",
              "      <th>140</th>\n",
              "      <td>141</td>\n",
              "      <td>Lesotho</td>\n",
              "      <td>3.808</td>\n",
              "      <td>0.472</td>\n",
              "      <td>1.215</td>\n",
              "      <td>0.079</td>\n",
              "      <td>0.423</td>\n",
              "      <td>0.116</td>\n",
              "      <td>0.112</td>\n",
              "    </tr>\n",
              "  </tbody>\n",
              "</table>\n",
              "</div>"
            ],
            "text/plain": [
              "     Overall rank Country or region  Score  GDP per capita  Social support  \\\n",
              "147           148             Haiti  3.582           0.315           0.714   \n",
              "87             88        Tajikistan  5.199           0.474           1.166   \n",
              "88             89         Macedonia  5.185           0.959           1.239   \n",
              "152           153          Tanzania  3.303           0.455           0.991   \n",
              "40             41         Nicaragua  6.141           0.668           1.319   \n",
              "61             62           Bolivia  5.752           0.751           1.223   \n",
              "80             81        Montenegro  5.347           1.017           1.279   \n",
              "23             24            Mexico  6.488           1.038           1.252   \n",
              "85             86             China  5.246           0.989           1.142   \n",
              "140           141           Lesotho  3.808           0.472           1.215   \n",
              "\n",
              "     Healthy life expectancy  Freedom to make life choices  Generosity  \\\n",
              "147                    0.289                         0.025       0.392   \n",
              "87                     0.598                         0.292       0.187   \n",
              "88                     0.691                         0.394       0.173   \n",
              "152                    0.381                         0.481       0.270   \n",
              "40                     0.700                         0.527       0.208   \n",
              "61                     0.508                         0.606       0.141   \n",
              "80                     0.729                         0.259       0.111   \n",
              "23                     0.761                         0.479       0.069   \n",
              "85                     0.799                         0.597       0.029   \n",
              "140                    0.079                         0.423       0.116   \n",
              "\n",
              "     Perceptions of corruption  \n",
              "147                      0.104  \n",
              "87                       0.034  \n",
              "88                       0.052  \n",
              "152                      0.097  \n",
              "40                       0.128  \n",
              "61                       0.054  \n",
              "80                       0.081  \n",
              "23                       0.095  \n",
              "85                       0.103  \n",
              "140                      0.112  "
            ]
          },
          "execution_count": 12,
          "metadata": {},
          "output_type": "execute_result"
        }
      ],
      "source": [
        "#4 sample using seed\n",
        "print(df.sample(10,random_state=12))"
      ]
    },
    {
      "cell_type": "code",
      "execution_count": null,
      "metadata": {
        "id": "GjUmX2RdD7X_",
        "outputId": "bcc18fda-289c-477e-a819-452db8746bc7"
      },
      "outputs": [
        {
          "data": {
            "text/html": [
              "<div>\n",
              "<style scoped>\n",
              "    .dataframe tbody tr th:only-of-type {\n",
              "        vertical-align: middle;\n",
              "    }\n",
              "\n",
              "    .dataframe tbody tr th {\n",
              "        vertical-align: top;\n",
              "    }\n",
              "\n",
              "    .dataframe thead th {\n",
              "        text-align: right;\n",
              "    }\n",
              "</style>\n",
              "<table border=\"1\" class=\"dataframe\">\n",
              "  <thead>\n",
              "    <tr style=\"text-align: right;\">\n",
              "      <th></th>\n",
              "      <th>Overall rank</th>\n",
              "      <th>Country or region</th>\n",
              "      <th>Score</th>\n",
              "      <th>GDP per capita</th>\n",
              "      <th>Social support</th>\n",
              "      <th>Healthy life expectancy</th>\n",
              "      <th>Freedom to make life choices</th>\n",
              "      <th>Generosity</th>\n",
              "      <th>Perceptions of corruption</th>\n",
              "    </tr>\n",
              "  </thead>\n",
              "  <tbody>\n",
              "    <tr>\n",
              "      <th>0</th>\n",
              "      <td>1</td>\n",
              "      <td>Finland</td>\n",
              "      <td>7.632</td>\n",
              "      <td>1.305</td>\n",
              "      <td>1.592</td>\n",
              "      <td>0.874</td>\n",
              "      <td>0.681</td>\n",
              "      <td>0.202</td>\n",
              "      <td>0.393</td>\n",
              "    </tr>\n",
              "    <tr>\n",
              "      <th>10</th>\n",
              "      <td>11</td>\n",
              "      <td>United Kingdom</td>\n",
              "      <td>7.190</td>\n",
              "      <td>1.244</td>\n",
              "      <td>1.433</td>\n",
              "      <td>0.888</td>\n",
              "      <td>0.464</td>\n",
              "      <td>0.262</td>\n",
              "      <td>0.082</td>\n",
              "    </tr>\n",
              "    <tr>\n",
              "      <th>20</th>\n",
              "      <td>21</td>\n",
              "      <td>Czech Republic</td>\n",
              "      <td>6.711</td>\n",
              "      <td>1.233</td>\n",
              "      <td>1.489</td>\n",
              "      <td>0.854</td>\n",
              "      <td>0.543</td>\n",
              "      <td>0.064</td>\n",
              "      <td>0.034</td>\n",
              "    </tr>\n",
              "    <tr>\n",
              "      <th>30</th>\n",
              "      <td>31</td>\n",
              "      <td>Uruguay</td>\n",
              "      <td>6.379</td>\n",
              "      <td>1.093</td>\n",
              "      <td>1.459</td>\n",
              "      <td>0.771</td>\n",
              "      <td>0.625</td>\n",
              "      <td>0.130</td>\n",
              "      <td>0.155</td>\n",
              "    </tr>\n",
              "    <tr>\n",
              "      <th>40</th>\n",
              "      <td>41</td>\n",
              "      <td>Nicaragua</td>\n",
              "      <td>6.141</td>\n",
              "      <td>0.668</td>\n",
              "      <td>1.319</td>\n",
              "      <td>0.700</td>\n",
              "      <td>0.527</td>\n",
              "      <td>0.208</td>\n",
              "      <td>0.128</td>\n",
              "    </tr>\n",
              "    <tr>\n",
              "      <th>50</th>\n",
              "      <td>51</td>\n",
              "      <td>Slovenia</td>\n",
              "      <td>5.948</td>\n",
              "      <td>1.219</td>\n",
              "      <td>1.506</td>\n",
              "      <td>0.856</td>\n",
              "      <td>0.633</td>\n",
              "      <td>0.160</td>\n",
              "      <td>0.051</td>\n",
              "    </tr>\n",
              "    <tr>\n",
              "      <th>60</th>\n",
              "      <td>61</td>\n",
              "      <td>Cyprus</td>\n",
              "      <td>5.762</td>\n",
              "      <td>1.229</td>\n",
              "      <td>1.191</td>\n",
              "      <td>0.909</td>\n",
              "      <td>0.423</td>\n",
              "      <td>0.202</td>\n",
              "      <td>0.035</td>\n",
              "    </tr>\n",
              "    <tr>\n",
              "      <th>70</th>\n",
              "      <td>71</td>\n",
              "      <td>Philippines</td>\n",
              "      <td>5.524</td>\n",
              "      <td>0.775</td>\n",
              "      <td>1.312</td>\n",
              "      <td>0.513</td>\n",
              "      <td>0.643</td>\n",
              "      <td>0.120</td>\n",
              "      <td>0.105</td>\n",
              "    </tr>\n",
              "    <tr>\n",
              "      <th>80</th>\n",
              "      <td>81</td>\n",
              "      <td>Montenegro</td>\n",
              "      <td>5.347</td>\n",
              "      <td>1.017</td>\n",
              "      <td>1.279</td>\n",
              "      <td>0.729</td>\n",
              "      <td>0.259</td>\n",
              "      <td>0.111</td>\n",
              "      <td>0.081</td>\n",
              "    </tr>\n",
              "    <tr>\n",
              "      <th>90</th>\n",
              "      <td>91</td>\n",
              "      <td>Nigeria</td>\n",
              "      <td>5.155</td>\n",
              "      <td>0.689</td>\n",
              "      <td>1.172</td>\n",
              "      <td>0.048</td>\n",
              "      <td>0.462</td>\n",
              "      <td>0.201</td>\n",
              "      <td>0.032</td>\n",
              "    </tr>\n",
              "    <tr>\n",
              "      <th>100</th>\n",
              "      <td>101</td>\n",
              "      <td>Nepal</td>\n",
              "      <td>4.880</td>\n",
              "      <td>0.425</td>\n",
              "      <td>1.228</td>\n",
              "      <td>0.539</td>\n",
              "      <td>0.526</td>\n",
              "      <td>0.302</td>\n",
              "      <td>0.078</td>\n",
              "    </tr>\n",
              "    <tr>\n",
              "      <th>110</th>\n",
              "      <td>111</td>\n",
              "      <td>Tunisia</td>\n",
              "      <td>4.592</td>\n",
              "      <td>0.900</td>\n",
              "      <td>0.906</td>\n",
              "      <td>0.690</td>\n",
              "      <td>0.271</td>\n",
              "      <td>0.040</td>\n",
              "      <td>0.063</td>\n",
              "    </tr>\n",
              "    <tr>\n",
              "      <th>120</th>\n",
              "      <td>121</td>\n",
              "      <td>Burkina Faso</td>\n",
              "      <td>4.424</td>\n",
              "      <td>0.314</td>\n",
              "      <td>1.097</td>\n",
              "      <td>0.254</td>\n",
              "      <td>0.312</td>\n",
              "      <td>0.175</td>\n",
              "      <td>0.128</td>\n",
              "    </tr>\n",
              "    <tr>\n",
              "      <th>130</th>\n",
              "      <td>131</td>\n",
              "      <td>Chad</td>\n",
              "      <td>4.301</td>\n",
              "      <td>0.358</td>\n",
              "      <td>0.907</td>\n",
              "      <td>0.053</td>\n",
              "      <td>0.189</td>\n",
              "      <td>0.181</td>\n",
              "      <td>0.060</td>\n",
              "    </tr>\n",
              "    <tr>\n",
              "      <th>140</th>\n",
              "      <td>141</td>\n",
              "      <td>Lesotho</td>\n",
              "      <td>3.808</td>\n",
              "      <td>0.472</td>\n",
              "      <td>1.215</td>\n",
              "      <td>0.079</td>\n",
              "      <td>0.423</td>\n",
              "      <td>0.116</td>\n",
              "      <td>0.112</td>\n",
              "    </tr>\n",
              "    <tr>\n",
              "      <th>150</th>\n",
              "      <td>151</td>\n",
              "      <td>Rwanda</td>\n",
              "      <td>3.408</td>\n",
              "      <td>0.332</td>\n",
              "      <td>0.896</td>\n",
              "      <td>0.400</td>\n",
              "      <td>0.636</td>\n",
              "      <td>0.200</td>\n",
              "      <td>0.444</td>\n",
              "    </tr>\n",
              "  </tbody>\n",
              "</table>\n",
              "</div>"
            ],
            "text/plain": [
              "     Overall rank Country or region  Score  GDP per capita  Social support  \\\n",
              "0               1           Finland  7.632           1.305           1.592   \n",
              "10             11    United Kingdom  7.190           1.244           1.433   \n",
              "20             21    Czech Republic  6.711           1.233           1.489   \n",
              "30             31           Uruguay  6.379           1.093           1.459   \n",
              "40             41         Nicaragua  6.141           0.668           1.319   \n",
              "50             51          Slovenia  5.948           1.219           1.506   \n",
              "60             61            Cyprus  5.762           1.229           1.191   \n",
              "70             71       Philippines  5.524           0.775           1.312   \n",
              "80             81        Montenegro  5.347           1.017           1.279   \n",
              "90             91           Nigeria  5.155           0.689           1.172   \n",
              "100           101             Nepal  4.880           0.425           1.228   \n",
              "110           111           Tunisia  4.592           0.900           0.906   \n",
              "120           121      Burkina Faso  4.424           0.314           1.097   \n",
              "130           131              Chad  4.301           0.358           0.907   \n",
              "140           141           Lesotho  3.808           0.472           1.215   \n",
              "150           151            Rwanda  3.408           0.332           0.896   \n",
              "\n",
              "     Healthy life expectancy  Freedom to make life choices  Generosity  \\\n",
              "0                      0.874                         0.681       0.202   \n",
              "10                     0.888                         0.464       0.262   \n",
              "20                     0.854                         0.543       0.064   \n",
              "30                     0.771                         0.625       0.130   \n",
              "40                     0.700                         0.527       0.208   \n",
              "50                     0.856                         0.633       0.160   \n",
              "60                     0.909                         0.423       0.202   \n",
              "70                     0.513                         0.643       0.120   \n",
              "80                     0.729                         0.259       0.111   \n",
              "90                     0.048                         0.462       0.201   \n",
              "100                    0.539                         0.526       0.302   \n",
              "110                    0.690                         0.271       0.040   \n",
              "120                    0.254                         0.312       0.175   \n",
              "130                    0.053                         0.189       0.181   \n",
              "140                    0.079                         0.423       0.116   \n",
              "150                    0.400                         0.636       0.200   \n",
              "\n",
              "     Perceptions of corruption  \n",
              "0                        0.393  \n",
              "10                       0.082  \n",
              "20                       0.034  \n",
              "30                       0.155  \n",
              "40                       0.128  \n",
              "50                       0.051  \n",
              "60                       0.035  \n",
              "70                       0.105  \n",
              "80                       0.081  \n",
              "90                       0.032  \n",
              "100                      0.078  \n",
              "110                      0.063  \n",
              "120                      0.128  \n",
              "130                      0.060  \n",
              "140                      0.112  \n",
              "150                      0.444  "
            ]
          },
          "execution_count": 14,
          "metadata": {},
          "output_type": "execute_result"
        }
      ],
      "source": [
        "#5 Display every 10th row\n",
        "print(df.iloc[::10])"
      ]
    },
    {
      "cell_type": "code",
      "execution_count": null,
      "metadata": {
        "id": "DXdwpo1SD9-F",
        "outputId": "8f2ac478-b92b-49e4-eca2-5acc164d8b2b"
      },
      "outputs": [
        {
          "data": {
            "text/html": [
              "<div>\n",
              "<style scoped>\n",
              "    .dataframe tbody tr th:only-of-type {\n",
              "        vertical-align: middle;\n",
              "    }\n",
              "\n",
              "    .dataframe tbody tr th {\n",
              "        vertical-align: top;\n",
              "    }\n",
              "\n",
              "    .dataframe thead th {\n",
              "        text-align: right;\n",
              "    }\n",
              "</style>\n",
              "<table border=\"1\" class=\"dataframe\">\n",
              "  <thead>\n",
              "    <tr style=\"text-align: right;\">\n",
              "      <th></th>\n",
              "      <th>Overall rank</th>\n",
              "      <th>Score</th>\n",
              "      <th>GDP per capita</th>\n",
              "      <th>Social support</th>\n",
              "      <th>Healthy life expectancy</th>\n",
              "      <th>Freedom to make life choices</th>\n",
              "      <th>Generosity</th>\n",
              "      <th>Perceptions of corruption</th>\n",
              "    </tr>\n",
              "  </thead>\n",
              "  <tbody>\n",
              "    <tr>\n",
              "      <th>count</th>\n",
              "      <td>156.000000</td>\n",
              "      <td>156.000000</td>\n",
              "      <td>156.000000</td>\n",
              "      <td>156.000000</td>\n",
              "      <td>156.000000</td>\n",
              "      <td>156.000000</td>\n",
              "      <td>156.000000</td>\n",
              "      <td>155.000000</td>\n",
              "    </tr>\n",
              "    <tr>\n",
              "      <th>mean</th>\n",
              "      <td>78.500000</td>\n",
              "      <td>5.375917</td>\n",
              "      <td>0.891449</td>\n",
              "      <td>1.213237</td>\n",
              "      <td>0.597346</td>\n",
              "      <td>0.454506</td>\n",
              "      <td>0.181006</td>\n",
              "      <td>0.112000</td>\n",
              "    </tr>\n",
              "    <tr>\n",
              "      <th>std</th>\n",
              "      <td>45.177428</td>\n",
              "      <td>1.119506</td>\n",
              "      <td>0.391921</td>\n",
              "      <td>0.302372</td>\n",
              "      <td>0.247579</td>\n",
              "      <td>0.162424</td>\n",
              "      <td>0.098471</td>\n",
              "      <td>0.096492</td>\n",
              "    </tr>\n",
              "    <tr>\n",
              "      <th>min</th>\n",
              "      <td>1.000000</td>\n",
              "      <td>2.905000</td>\n",
              "      <td>0.000000</td>\n",
              "      <td>0.000000</td>\n",
              "      <td>0.000000</td>\n",
              "      <td>0.000000</td>\n",
              "      <td>0.000000</td>\n",
              "      <td>0.000000</td>\n",
              "    </tr>\n",
              "    <tr>\n",
              "      <th>25%</th>\n",
              "      <td>39.750000</td>\n",
              "      <td>4.453750</td>\n",
              "      <td>0.616250</td>\n",
              "      <td>1.066750</td>\n",
              "      <td>0.422250</td>\n",
              "      <td>0.356000</td>\n",
              "      <td>0.109500</td>\n",
              "      <td>0.051000</td>\n",
              "    </tr>\n",
              "    <tr>\n",
              "      <th>50%</th>\n",
              "      <td>78.500000</td>\n",
              "      <td>5.378000</td>\n",
              "      <td>0.949500</td>\n",
              "      <td>1.255000</td>\n",
              "      <td>0.644000</td>\n",
              "      <td>0.487000</td>\n",
              "      <td>0.174000</td>\n",
              "      <td>0.082000</td>\n",
              "    </tr>\n",
              "    <tr>\n",
              "      <th>75%</th>\n",
              "      <td>117.250000</td>\n",
              "      <td>6.168500</td>\n",
              "      <td>1.197750</td>\n",
              "      <td>1.463000</td>\n",
              "      <td>0.777250</td>\n",
              "      <td>0.578500</td>\n",
              "      <td>0.239000</td>\n",
              "      <td>0.137000</td>\n",
              "    </tr>\n",
              "    <tr>\n",
              "      <th>max</th>\n",
              "      <td>156.000000</td>\n",
              "      <td>7.632000</td>\n",
              "      <td>2.096000</td>\n",
              "      <td>1.644000</td>\n",
              "      <td>1.030000</td>\n",
              "      <td>0.724000</td>\n",
              "      <td>0.598000</td>\n",
              "      <td>0.457000</td>\n",
              "    </tr>\n",
              "  </tbody>\n",
              "</table>\n",
              "</div>"
            ],
            "text/plain": [
              "       Overall rank       Score  GDP per capita  Social support  \\\n",
              "count    156.000000  156.000000      156.000000      156.000000   \n",
              "mean      78.500000    5.375917        0.891449        1.213237   \n",
              "std       45.177428    1.119506        0.391921        0.302372   \n",
              "min        1.000000    2.905000        0.000000        0.000000   \n",
              "25%       39.750000    4.453750        0.616250        1.066750   \n",
              "50%       78.500000    5.378000        0.949500        1.255000   \n",
              "75%      117.250000    6.168500        1.197750        1.463000   \n",
              "max      156.000000    7.632000        2.096000        1.644000   \n",
              "\n",
              "       Healthy life expectancy  Freedom to make life choices  Generosity  \\\n",
              "count               156.000000                    156.000000  156.000000   \n",
              "mean                  0.597346                      0.454506    0.181006   \n",
              "std                   0.247579                      0.162424    0.098471   \n",
              "min                   0.000000                      0.000000    0.000000   \n",
              "25%                   0.422250                      0.356000    0.109500   \n",
              "50%                   0.644000                      0.487000    0.174000   \n",
              "75%                   0.777250                      0.578500    0.239000   \n",
              "max                   1.030000                      0.724000    0.598000   \n",
              "\n",
              "       Perceptions of corruption  \n",
              "count                 155.000000  \n",
              "mean                    0.112000  \n",
              "std                     0.096492  \n",
              "min                     0.000000  \n",
              "25%                     0.051000  \n",
              "50%                     0.082000  \n",
              "75%                     0.137000  \n",
              "max                     0.457000  "
            ]
          },
          "execution_count": 15,
          "metadata": {},
          "output_type": "execute_result"
        }
      ],
      "source": [
        "#6 Get the summary stats of the dataset regarding each column\n",
        "print(df.describe())\n"
      ]
    },
    {
      "cell_type": "code",
      "execution_count": null,
      "metadata": {
        "id": "qhE0TwZZEAM5",
        "outputId": "228e7e57-2641-42e6-a070-81148e6cd05a"
      },
      "outputs": [
        {
          "name": "stdout",
          "output_type": "stream",
          "text": [
            "Overall rank                    0\n",
            "Country or region               0\n",
            "Score                           0\n",
            "GDP per capita                  0\n",
            "Social support                  0\n",
            "Healthy life expectancy         0\n",
            "Freedom to make life choices    0\n",
            "Generosity                      0\n",
            "Perceptions of corruption       1\n",
            "dtype: int64\n"
          ]
        }
      ],
      "source": [
        "#7 Identify and count the number of missing values in each column\n",
        "missing_values = df.isna().sum()\n",
        "print(missing_values)"
      ]
    },
    {
      "cell_type": "markdown",
      "metadata": {
        "id": "03njHFZpEDcR"
      },
      "source": [
        "# Q2. Basic Data Statistics: **(10 Pts)**\n",
        "\n",
        "1. Calculate the mean, median, and standard deviation of the happiness Score across all countries. **(1 Pts)**\n",
        "2. Identify the top 5 happiest countries and the bottom 5 least happy countries based on happiness Score. **(1 Pts)**\n",
        "3. Find the country with the highest Healthy Life Expectancy. What is the corresponding happiness Score? **(2 Pts)**\n",
        "4. Calculate the average Corruption Perceptions for countries with a happiness Score greater than 6. **(2 Pts)**\n",
        "5. Are there any countries where Generosity is higher than Social Support? List them. **(2 Pts)**\n",
        "6. What is the range (max-min) of GDP per Capita values in the dataset? **(2 Pts)**"
      ]
    },
    {
      "cell_type": "code",
      "execution_count": null,
      "metadata": {
        "id": "7VerqUJlIxdB",
        "outputId": "f12c697f-6e4b-49e7-bd06-0f454798cda5"
      },
      "outputs": [
        {
          "name": "stdout",
          "output_type": "stream",
          "text": [
            "5.375916666666667\n",
            "5.378\n",
            "1.119505852731943\n"
          ]
        }
      ],
      "source": [
        "#1\n",
        "print(df[\"Score\"].mean())\n",
        "print(df[\"Score\"].median())\n",
        "print(df[\"Score\"].std())"
      ]
    },
    {
      "cell_type": "code",
      "execution_count": null,
      "metadata": {
        "id": "HEMghv00IxU1",
        "outputId": "b8d56e22-ace2-4285-ce33-c101e386de24"
      },
      "outputs": [
        {
          "name": "stdout",
          "output_type": "stream",
          "text": [
            "Hong Kong\n"
          ]
        }
      ],
      "source": [
        "#3\n",
        "print(df.loc[df[\"Healthy life expectancy\"].idxmax(), \"Country or region\"])"
      ]
    },
    {
      "cell_type": "code",
      "execution_count": null,
      "metadata": {
        "id": "7V9fOGmyIxPx",
        "outputId": "554f3b76-2bd3-4372-e950-cde8fcd42a70"
      },
      "outputs": [
        {
          "name": "stdout",
          "output_type": "stream",
          "text": [
            "0.1782888888888889\n"
          ]
        }
      ],
      "source": [
        "#4\n",
        "# Filter the DataFrame for countries with a Happiness Score greater than 6\n",
        "newdf = df[df[\"Score\"] > 6]\n",
        "\n",
        "# Calculate the average Corruption Perceptions for those countries\n",
        "avarage= newdf[\"Perceptions of corruption\"].mean()\n",
        "print(avarage)\n",
        "\n",
        "\n",
        "\n"
      ]
    },
    {
      "cell_type": "code",
      "execution_count": null,
      "metadata": {
        "id": "Xu8KeZpuIxKX",
        "outputId": "7e5010c6-7b9e-4920-daeb-5a9db7cc3904"
      },
      "outputs": [
        {
          "name": "stdout",
          "output_type": "stream",
          "text": [
            "     Overall rank         Country or region  Score  GDP per capita  \\\n",
            "154           155  Central African Republic  3.083           0.024   \n",
            "\n",
            "     Social support  Healthy life expectancy  Freedom to make life choices  \\\n",
            "154             0.0                     0.01                         0.305   \n",
            "\n",
            "     Generosity  Perceptions of corruption  \n",
            "154       0.218                      0.038  \n"
          ]
        }
      ],
      "source": [
        "\n",
        "# Cömertlik değeri Sosyal Destek değerinden büyük olan ülkeleri filtrele\n",
        "country = df[df[\"Generosity\"] > df[\"Social support\"]]\n",
        "print(country)\n",
        "\n",
        "\n"
      ]
    },
    {
      "cell_type": "code",
      "execution_count": null,
      "metadata": {
        "id": "TwGHH-K9IxDy",
        "outputId": "80e8e207-dc8d-4779-df98-333e8b77f7fb"
      },
      "outputs": [
        {
          "name": "stdout",
          "output_type": "stream",
          "text": [
            "2.096\n",
            "0.0\n",
            "2.096\n"
          ]
        }
      ],
      "source": [
        "#6\n",
        "maxgdp = df[\"GDP per capita\"].max()\n",
        "mingdp = df[\"GDP per capita\"].min()\n",
        "rannge=maxgdp-mingdp\n",
        "print(maxgdp)\n",
        "print(mingdp)\n",
        "print(rannge)"
      ]
    },
    {
      "cell_type": "markdown",
      "metadata": {
        "id": "s6LGyNg0Fqns"
      },
      "source": [
        "# Q3. Data Filtering **(20 Pts)**\n",
        "\n",
        "1. How many countries have a Happiness Score greater than 7.5? List their names.**(2 Pts)**\n",
        "2. List all countries where the Corruption Perception score is below 0.2. **(2 Pts)**\n",
        "3. Filter and list the top 5 countries by Generosity. What is their average Happiness Score? **(2 Pts)**\n",
        "4. Find countries where GDP per Capita is less than 0.5 but the Happiness Score is above 4. List the countries. **(2 Pts)**\n",
        "5. Filter countries where Social Support is higher than Freedom to Make Life **(2 Pts)**\n",
        "6. Find countries in the top 10% of Healthy Life Expectancy and list their names. **(2 Pts)**\n",
        "7. Filter and list countries where Generosity is less than Social Support. What is the average Happiness Score of these countries? **(2 Pts)**\n",
        "8.  Find all countries with a Happiness Score below the median happiness score. How many are there, and what are the common characteristics of these countries? **(3 Pts)**\n",
        "9. Filter countries where both Freedom to Make Life Choices and Healthy Life Expectancy are above the global median. How many such countries are there? **(3 Pts)**"
      ]
    },
    {
      "cell_type": "code",
      "execution_count": null,
      "metadata": {
        "id": "H2ZCnvlKIzvU",
        "outputId": "979d62ab-8b91-4807-e833-a0ae992decb3"
      },
      "outputs": [
        {
          "name": "stdout",
          "output_type": "stream",
          "text": [
            "0    Finland\n",
            "1     Norway\n",
            "2    Denmark\n",
            "Name: Country or region, dtype: object\n",
            "3\n"
          ]
        }
      ],
      "source": [
        "#1nc\n",
        "newdf=df[df[\"Score\"]>7.5][\"Country or region\"]\n",
        "print(newdf)\n",
        "print(len(newdf))"
      ]
    },
    {
      "cell_type": "markdown",
      "metadata": {
        "id": "pedm2qN7Izpj"
      },
      "source": [
        "#2\n",
        "nc=df[df[\"Perceptions of corruption\"]<0.2]\n",
        "nc\n",
        "#Overall rank                    0\n",
        "#Country or region               0\n",
        "#Score                           0\n",
        "#GDP per capita                  0\n",
        "#Social support                  0\n",
        "#Healthy life expectancy         0\n",
        "#Freedom to make life choices    0\n",
        "#Generosity                      0\n",
        "#Perceptions of corruption       1\n",
        "#dtype: int64"
      ]
    },
    {
      "cell_type": "code",
      "execution_count": null,
      "metadata": {
        "id": "RDR7XZU0IzES",
        "outputId": "b7b15f80-be81-4163-abec-e139afb2f85d"
      },
      "outputs": [
        {
          "name": "stdout",
          "output_type": "stream",
          "text": [
            "The mean Score of the top 5 Generosity values is 4.6144.\n"
          ]
        }
      ],
      "source": [
        "# Get the indices of the top 5 largest values in the 'Generosity' column\n",
        "top5largest = df[\"Generosity\"].nlargest(5).index\n",
        "\n",
        "# Use these indices to filter the DataFrame\n",
        "indices = df.loc[top5largest]\n",
        "\n",
        "# Calculate the mean of the 'Score' for those entries\n",
        "result = indices[\"Score\"].mean()\n",
        "\n",
        "# Display the result\n",
        "print(f\"The mean Score of the top 5 Generosity values is {result}.\")\n"
      ]
    },
    {
      "cell_type": "code",
      "execution_count": null,
      "metadata": {
        "id": "Q-v1h509IzBw",
        "outputId": "7fc46f08-93bd-40c9-accf-94b46cc98e99"
      },
      "outputs": [
        {
          "data": {
            "text/plain": [
              "87           Tajikistan\n",
              "97              Somalia\n",
              "100               Nepal\n",
              "108             Senegal\n",
              "112        Sierra Leone\n",
              "117                Mali\n",
              "120        Burkina Faso\n",
              "122          Mozambique\n",
              "123               Kenya\n",
              "126            Ethiopia\n",
              "130                Chad\n",
              "131    Congo (Kinshasa)\n",
              "133               Niger\n",
              "134              Uganda\n",
              "135               Benin\n",
              "Name: Country or region, dtype: object"
            ]
          },
          "execution_count": 18,
          "metadata": {},
          "output_type": "execute_result"
        }
      ],
      "source": [
        "#4\n",
        "filtered_countries = df[(df['GDP per capita'] < 0.5) & (df['Score'] > 4)][\"Country or region\"]\n",
        "print(filtered_countries)"
      ]
    },
    {
      "cell_type": "code",
      "execution_count": null,
      "metadata": {
        "id": "fsxfO5cvIy_L",
        "outputId": "94d0bdac-e8fb-404b-b92e-3b14a04bed02"
      },
      "outputs": [
        {
          "name": "stdout",
          "output_type": "stream",
          "text": [
            "0          Finland\n",
            "1           Norway\n",
            "2          Denmark\n",
            "3          Iceland\n",
            "4      Switzerland\n",
            "          ...     \n",
            "150         Rwanda\n",
            "151          Yemen\n",
            "152       Tanzania\n",
            "153    South Sudan\n",
            "155        Burundi\n",
            "Name: Country or region, Length: 154, dtype: object\n"
          ]
        }
      ],
      "source": [
        "\n",
        "country=df[df[\"Social support\"]>df[\"Freedom to make life choices\"]][\"Country or region\"]\n",
        "print(country)"
      ]
    },
    {
      "cell_type": "code",
      "execution_count": null,
      "metadata": {
        "id": "p-HrMopaIy8j",
        "outputId": "3c7618d8-fc44-4151-a774-744c838641f3"
      },
      "outputs": [
        {
          "name": "stdout",
          "output_type": "stream",
          "text": [
            "    Overall rank Country or region  Score  GDP per capita  Social support  \\\n",
            "3              4           Iceland  7.495           1.343           1.644   \n",
            "4              5       Switzerland  7.487           1.420           1.549   \n",
            "6              7            Canada  7.328           1.330           1.532   \n",
            "8              9            Sweden  7.314           1.355           1.501   \n",
            "9             10         Australia  7.272           1.340           1.573   \n",
            "15            16           Belgium  6.927           1.324           1.483   \n",
            "16            17        Luxembourg  6.910           1.576           1.520   \n",
            "22            23            France  6.489           1.293           1.466   \n",
            "33            34         Singapore  6.343           1.529           1.451   \n",
            "35            36             Spain  6.310           1.251           1.538   \n",
            "46            47             Italy  6.000           1.264           1.501   \n",
            "53            54             Japan  5.915           1.294           1.462   \n",
            "56            57       South Korea  5.875           1.266           1.204   \n",
            "57            58   Northern Cyprus  5.835           1.229           1.211   \n",
            "60            61            Cyprus  5.762           1.229           1.191   \n",
            "75            76         Hong Kong  5.430           1.405           1.290   \n",
            "\n",
            "    Healthy life expectancy  Freedom to make life choices  Generosity  \\\n",
            "3                     0.914                         0.677       0.353   \n",
            "4                     0.927                         0.660       0.256   \n",
            "6                     0.896                         0.653       0.321   \n",
            "8                     0.913                         0.659       0.285   \n",
            "9                     0.910                         0.647       0.361   \n",
            "15                    0.894                         0.583       0.188   \n",
            "16                    0.896                         0.632       0.196   \n",
            "22                    0.908                         0.520       0.098   \n",
            "33                    1.008                         0.631       0.261   \n",
            "35                    0.965                         0.449       0.142   \n",
            "46                    0.946                         0.281       0.137   \n",
            "53                    0.988                         0.553       0.079   \n",
            "56                    0.955                         0.244       0.175   \n",
            "57                    0.909                         0.495       0.179   \n",
            "60                    0.909                         0.423       0.202   \n",
            "75                    1.030                         0.524       0.246   \n",
            "\n",
            "    Perceptions of corruption  \n",
            "3                       0.138  \n",
            "4                       0.357  \n",
            "6                       0.291  \n",
            "8                       0.383  \n",
            "9                       0.302  \n",
            "15                      0.240  \n",
            "16                      0.321  \n",
            "22                      0.176  \n",
            "33                      0.457  \n",
            "35                      0.074  \n",
            "46                      0.028  \n",
            "53                      0.150  \n",
            "56                      0.051  \n",
            "57                      0.154  \n",
            "60                      0.035  \n",
            "75                      0.291  \n"
          ]
        }
      ],
      "source": [
        "#6\n",
        "hlfdataframe=df[\"Healthy life expectancy\"].quantile(0.9)\n",
        "top=df[df[\"Healthy life expectancy\"]>hlfdataframe]\n",
        "print(top)"
      ]
    },
    {
      "cell_type": "code",
      "execution_count": null,
      "metadata": {
        "id": "C3TofhTGIy53",
        "outputId": "8230bbda-7162-4b38-bd85-a6c0aa3558a3"
      },
      "outputs": [
        {
          "name": "stdout",
          "output_type": "stream",
          "text": [
            "5.390709677419355\n"
          ]
        }
      ],
      "source": [
        "newdf=df[df[\"Generosity\"]<df[\"Social support\"]]\n",
        "avarage_score=newdf[\"Score\"].mean()\n",
        "print(avarage_score)\n"
      ]
    },
    {
      "cell_type": "code",
      "execution_count": null,
      "metadata": {
        "id": "aErDzpSVIy3Q",
        "outputId": "a42b2b85-5b8a-48e2-cdea-be5c84d25f15"
      },
      "outputs": [
        {
          "name": "stdout",
          "output_type": "stream",
          "text": [
            "78\n",
            "0.6212564102564103\n",
            "1.0194230769230768\n",
            "0.43296153846153845\n",
            "0.17670512820512818\n"
          ]
        }
      ],
      "source": [
        "#8\n",
        "#5\n",
        "#Overall rank                    0\n",
        "#Country or region               0\n",
        "#Score                           0\n",
        "#GDP per capita                  0\n",
        "#Social support                  0\n",
        "#Healthy life expectancy         0\n",
        "#Freedom to make life choices    0\n",
        "#Generosity                      0\n",
        "#Perceptions of corruption       1\n",
        "#dtype: int64\n",
        "\n",
        "belowmedian=df[df[\"Score\"]<df[\"Score\"].median()]\n",
        "print(len(belowmedian))\n",
        "average_gdp = belowmedian['GDP per capita'].mean()\n",
        "print(average_gdp)\n",
        "average_social_support = belowmedian['Social support'].mean()\n",
        "print(average_social_support)\n",
        "average_health_expectancy = belowmedian['Healthy life expectancy'].mean()\n",
        "print(average_health_expectancy )\n",
        "average_generosity = belowmedian['Generosity'].mean()\n",
        "print(average_generosity)"
      ]
    },
    {
      "cell_type": "code",
      "execution_count": null,
      "metadata": {
        "id": "1veiAlVaIy05",
        "outputId": "19200b42-4c5b-424d-b716-4588b0e76c36"
      },
      "outputs": [
        {
          "name": "stdout",
          "output_type": "stream",
          "text": [
            "47\n"
          ]
        }
      ],
      "source": [
        "#9\n",
        "median_freedom = df['Freedom to make life choices'].median()\n",
        "median_health = df['Healthy life expectancy'].median()\n",
        "filtered_countries = df[(df['Freedom to make life choices'] > median_freedom) &\n",
        "                         (df['Healthy life expectancy'] > median_health)]\n",
        "print(len(filtered_countries))\n",
        "\n"
      ]
    },
    {
      "cell_type": "markdown",
      "metadata": {
        "id": "BPt91yizJhpJ"
      },
      "source": [
        "# **PART- 2**\n",
        "\n",
        "**Set of Questions on the passenger_demographics.csv and passenger_survival.csv** **(25 Pts)**\n",
        "\n",
        "**Dataset Path: \"Data/passenger_demographics.csv\" and \"Data/passenger_survival.csv\"**"
      ]
    },
    {
      "cell_type": "markdown",
      "metadata": {
        "id": "OX2D4qaNT3na"
      },
      "source": [
        "# Q1. Data Merging and Consistency Checking\n",
        "\n",
        "\n",
        "1. Merge the datasets on PassengerId into a single DataFrame. How many rows are there in the merged dataset? **(3 Pts)**\n",
        "2. Perform a consistency check for duplicated rows. After merging, check for any duplicated rows in the merged dataset and provide a summary of your findings. Provide the details (average, mean, etc.) of each feature in the merged DataFrame. **(3 Pts)**\n",
        "3. Determine the survival rate for each passenger class and gender. Analyze how the survival rate varies among different classes (Pclass) and genders. **(3 Pts)**\n",
        "4. Analyze the effect of age on survival probability. Determine whether age significantly affects the probability of survival. Use statistical techniques to explore this relationship.(use binning) **(4 Pts)**\n",
        "5. Investigate the impact of family size on survival. Determine if family size (based on the number of siblings/spouses and parents/children aboard) has any correlation with survival. **(4 Pts)**\n",
        "6. Determine the most common embarkation point among survivors. Find out which embarkation point (C, Q, or S) had the highest survival rate. **(4 Pts)**\n",
        "7. Evaluate the correlation between Fare and Survival. Determine if there is a correlation between the fare paid and the survival status of the passengers. **(4 Pts)**"
      ]
    },
    {
      "cell_type": "code",
      "execution_count": null,
      "metadata": {
        "id": "Lhe7YtGBYtjD",
        "outputId": "6c6b66dc-717e-4fd0-b01a-c36afdce6d75"
      },
      "outputs": [
        {
          "name": "stdout",
          "output_type": "stream",
          "text": [
            "The number of rows in the merged dataset is: 891\n"
          ]
        }
      ],
      "source": [
        "import pandas as pd\n",
        "import numpy as np\n",
        "\n",
        "# Load the datasets\n",
        "demographics_df = pd.read_csv(\"Data/passenger_demographics.csv\")\n",
        "survival_df = pd.read_csv(\"Data/passenger_survival.csv\")\n",
        "\n",
        "# Merge the datasets on PassengerId\n",
        "merged_df = pd.merge(demographics, survival, on=\"PassengerId\")\n",
        "\n",
        "# Count the number of rows in the merged dataset\n",
        "num_rows = len(merged_df)\n",
        "\n",
        "# Display the number of rows\n",
        "print(f\"The number of rows in the merged dataset is: {num_rows}\")\n",
        "\n"
      ]
    },
    {
      "cell_type": "code",
      "execution_count": null,
      "metadata": {
        "id": "WsIKBmxnYuZc",
        "outputId": "406611fc-8f23-43d0-8d7d-42a67efd8c27"
      },
      "outputs": [
        {
          "name": "stdout",
          "output_type": "stream",
          "text": [
            "Number of duplicated rows: 0\n",
            "\n",
            "Summary statistics for each feature:\n",
            "        PassengerId      Pclass   Sex         Age       SibSp       Parch  \\\n",
            "count    891.000000  891.000000   891  714.000000  891.000000  891.000000   \n",
            "unique          NaN         NaN     2         NaN         NaN         NaN   \n",
            "top             NaN         NaN  male         NaN         NaN         NaN   \n",
            "freq            NaN         NaN   577         NaN         NaN         NaN   \n",
            "mean     446.000000    2.308642   NaN   29.699118    0.523008    0.381594   \n",
            "std      257.353842    0.836071   NaN   14.526497    1.102743    0.806057   \n",
            "min        1.000000    1.000000   NaN    0.420000    0.000000    0.000000   \n",
            "25%      223.500000    2.000000   NaN   20.125000    0.000000    0.000000   \n",
            "50%      446.000000    3.000000   NaN   28.000000    0.000000    0.000000   \n",
            "75%      668.500000    3.000000   NaN   38.000000    1.000000    0.000000   \n",
            "max      891.000000    3.000000   NaN   80.000000    8.000000    6.000000   \n",
            "\n",
            "          Survived        Fare Embarked  \n",
            "count   891.000000  891.000000      889  \n",
            "unique         NaN         NaN        3  \n",
            "top            NaN         NaN        S  \n",
            "freq           NaN         NaN      644  \n",
            "mean      0.383838   32.204208      NaN  \n",
            "std       0.486592   49.693429      NaN  \n",
            "min       0.000000    0.000000      NaN  \n",
            "25%       0.000000    7.910400      NaN  \n",
            "50%       0.000000   14.454200      NaN  \n",
            "75%       1.000000   31.000000      NaN  \n",
            "max       1.000000  512.329200      NaN  \n"
          ]
        }
      ],
      "source": [
        "\n",
        "# Check for duplicated rows\n",
        "duplicates = merged_df.duplicated()\n",
        "num_duplicates = duplicates.sum()\n",
        "\n",
        "# Summary of findings regarding duplicates\n",
        "if num_duplicates > 0:\n",
        "    duplicate_rows = merged_df[duplicates]\n",
        "else:\n",
        "    duplicate_rows = None\n",
        "\n",
        "# Calculate summary statistics for each feature\n",
        "summary_statistics = merged_df.describe(include='all')  # Include all features\n",
        "\n",
        "# Display results\n",
        "print(f\"Number of duplicated rows: {num_duplicates}\")\n",
        "if duplicate_rows is not None:\n",
        "    print(\"\\nDetails of duplicated rows:\")\n",
        "    print(duplicate_rows)\n",
        "\n",
        "print(\"\\nSummary statistics for each feature:\")\n",
        "print(summary_statistics)\n"
      ]
    },
    {
      "cell_type": "code",
      "execution_count": null,
      "metadata": {
        "id": "vHLFSeDKYuVG",
        "outputId": "662bd228-58e4-4101-8fa0-f992ef9e76a7"
      },
      "outputs": [
        {
          "name": "stdout",
          "output_type": "stream",
          "text": [
            "Survival Rate by Passenger Class and Gender:\n",
            "   Pclass     Sex  Survival Rate\n",
            "0       1  female       0.968085\n",
            "1       1    male       0.368852\n",
            "2       2  female       0.921053\n",
            "3       2    male       0.157407\n",
            "4       3  female       0.500000\n",
            "5       3    male       0.135447\n",
            "\n",
            "Survival rates for Pclass 1:\n",
            "  Gender: female, Survival Rate: 0.97\n",
            "  Gender: male, Survival Rate: 0.37\n",
            "\n",
            "Survival rates for Pclass 2:\n",
            "  Gender: female, Survival Rate: 0.92\n",
            "  Gender: male, Survival Rate: 0.16\n",
            "\n",
            "Survival rates for Pclass 3:\n",
            "  Gender: female, Survival Rate: 0.50\n",
            "  Gender: male, Survival Rate: 0.14\n"
          ]
        }
      ],
      "source": [
        "\n",
        "\n",
        "survival_rates = merged_df.groupby(['Pclass', 'Sex'])['Survived'].mean().reset_index()\n",
        "\n",
        "survival_rates.rename(columns={'Survived': 'Survival Rate'}, inplace=True)\n",
        "\n",
        "\n",
        "print(\"Survival Rate by Passenger Class and Gender:\")\n",
        "print(survival_rates)\n",
        "\n",
        "\n",
        "for pclass in survival_rates['Pclass'].unique():\n",
        "    class_data = survival_rates[survival_rates['Pclass'] == pclass]\n",
        "    print(f\"\\nSurvival rates for Pclass {pclass}:\")\n",
        "    for _, row in class_data.iterrows():\n",
        "        print(f\"  Gender: {row['Sex']}, Survival Rate: {row['Survival Rate']:.2f}\")\n"
      ]
    },
    {
      "cell_type": "code",
      "execution_count": null,
      "metadata": {
        "id": "3nrS1BgFYuQJ",
        "outputId": "73b86f54-8cf1-4aa7-a1b8-698519f0f3d3"
      },
      "outputs": [
        {
          "name": "stdout",
          "output_type": "stream",
          "text": [
            "Hayatta kalma oranları (yaş gruplarına göre):\n",
            "AgeGroup\n",
            "0-10     0.612903\n",
            "10-20    0.401961\n",
            "20-30    0.350000\n",
            "30-40    0.437126\n",
            "40-50    0.382022\n",
            "50-60    0.416667\n",
            "60-70    0.315789\n",
            "70-80    0.000000\n",
            "Name: Survived, dtype: float64\n",
            "\n",
            "Yaş gruplarındaki yolcu sayıları:\n",
            "AgeGroup\n",
            "0-10      62\n",
            "10-20    102\n",
            "20-30    220\n",
            "30-40    167\n",
            "40-50     89\n",
            "50-60     48\n",
            "60-70     19\n",
            "70-80      6\n",
            "Name: Survived, dtype: int64\n"
          ]
        },
        {
          "name": "stderr",
          "output_type": "stream",
          "text": [
            "/tmp/ipykernel_23000/3103372007.py:17: FutureWarning: The default of observed=False is deprecated and will be changed to True in a future version of pandas. Pass observed=False to retain current behavior or observed=True to adopt the future default and silence this warning.\n",
            "  survival_rate_by_age = merged_df.groupby('AgeGroup')['Survived'].mean()\n",
            "/tmp/ipykernel_23000/3103372007.py:24: FutureWarning: The default of observed=False is deprecated and will be changed to True in a future version of pandas. Pass observed=False to retain current behavior or observed=True to adopt the future default and silence this warning.\n",
            "  age_group_counts = merged_df.groupby('AgeGroup')['Survived'].count()\n"
          ]
        }
      ],
      "source": [
        "import pandas as pd\n",
        "import numpy as np\n",
        "\n",
        "\n",
        "demographics = pd.read_csv(\"Data/passenger_demographics.csv\")\n",
        "survival = pd.read_csv(\"Data/passenger_survival.csv\")\n",
        "\n",
        "merged_df = pd.merge(demographics, survival, on=\"PassengerId\")\n",
        "\n",
        "age_bins = [0, 10, 20, 30, 40, 50, 60, 70, 80]\n",
        "age_labels = ['0-10', '10-20', '20-30', '30-40', '40-50', '50-60', '60-70', '70-80']\n",
        "merged_df['AgeGroup'] = pd.cut(merged_df['Age'], bins=age_bins, labels=age_labels, right=False)\n",
        "\n",
        "\n",
        "survival_rate_by_age = merged_df.groupby('AgeGroup')['Survived'].mean()\n",
        "\n",
        "print(\"Hayatta kalma oranları (yaş gruplarına göre):\")\n",
        "print(survival_rate_by_age)\n",
        "\n",
        "age_group_counts = merged_df.groupby('AgeGroup')['Survived'].count()\n",
        "print(\"\\nYaş gruplarındaki yolcu sayıları:\")\n",
        "print(age_group_counts)\n"
      ]
    },
    {
      "cell_type": "code",
      "execution_count": null,
      "metadata": {
        "id": "xlco8hajYuIX",
        "outputId": "2c24c11b-f120-4c4e-c1ef-637deb64c630"
      },
      "outputs": [
        {
          "name": "stdout",
          "output_type": "stream",
          "text": [
            "Aile büyüklüğüne göre hayatta kalma oranları:\n",
            "FamilySize\n",
            "1     0.303538\n",
            "2     0.552795\n",
            "3     0.578431\n",
            "4     0.724138\n",
            "5     0.200000\n",
            "6     0.136364\n",
            "7     0.333333\n",
            "8     0.000000\n",
            "11    0.000000\n",
            "Name: Survived, dtype: float64\n",
            "\n",
            "Her aile büyüklüğü için yolcu sayıları:\n",
            "FamilySize\n",
            "1     537\n",
            "2     161\n",
            "3     102\n",
            "4      29\n",
            "5      15\n",
            "6      22\n",
            "7      12\n",
            "8       6\n",
            "11      7\n",
            "Name: Survived, dtype: int64\n"
          ]
        }
      ],
      "source": [
        "\n",
        "demographics = pd.read_csv(\"Data/passenger_demographics.csv\")\n",
        "survival = pd.read_csv(\"Data/passenger_survival.csv\")\n",
        "\n",
        "\n",
        "merged_data = pd.merge(demographics, survival, on=\"PassengerId\")\n",
        "\n",
        "merged_data['FamilySize'] = merged_data['SibSp'] + merged_data['Parch'] + 1\n",
        "\n",
        "\n",
        "survival_rate_by_family_size = merged_data.groupby('FamilySize')['Survived'].mean()\n",
        "\n",
        "print(\"Aile büyüklüğüne göre hayatta kalma oranları:\")\n",
        "print(survival_rate_by_family_size)\n",
        "\n",
        "\n",
        "family_size_counts = merged_data.groupby('FamilySize')['Survived'].count()\n",
        "print(\"\\nHer aile büyüklüğü için yolcu sayıları:\")\n",
        "print(family_size_counts)"
      ]
    },
    {
      "cell_type": "code",
      "execution_count": null,
      "metadata": {
        "id": "RdPyq5mFYuCT",
        "outputId": "2d5a6a21-c2d7-4c67-c4d4-8caaec8a9fe0"
      },
      "outputs": [
        {
          "name": "stdout",
          "output_type": "stream",
          "text": [
            "Kalkış noktalarına göre hayatta kalma oranları:\n",
            "Embarked\n",
            "C    0.553571\n",
            "Q    0.389610\n",
            "S    0.336957\n",
            "Name: Survived, dtype: float64\n",
            "\n",
            "En yüksek hayatta kalma oranına sahip kalkış noktası: C (0.55)\n"
          ]
        }
      ],
      "source": [
        "#6\n",
        "import pandas as pd\n",
        "\n",
        "\n",
        "demographics = pd.read_csv(\"Data/passenger_demographics.csv\")\n",
        "survival = pd.read_csv(\"Data/passenger_survival.csv\")\n",
        "\n",
        "\n",
        "merged_df = pd.merge(demographics, survival, on=\"PassengerId\")\n",
        "\n",
        "survival_rate_by_embarked = merged_df.groupby('Embarked')['Survived'].mean()\n",
        "\n",
        "\n",
        "print(\"Kalkış noktalarına göre hayatta kalma oranları:\")\n",
        "print(survival_rate_by_embarked)\n",
        "\n",
        "\n",
        "most_common_embarked = survival_rate_by_embarked.idxmax()\n",
        "highest_survival_rate = survival_rate_by_embarked.max()\n",
        "\n",
        "print(f\"\\nEn yüksek hayatta kalma oranına sahip kalkış noktası: {most_common_embarked} ({highest_survival_rate:.2f})\")\n"
      ]
    },
    {
      "cell_type": "code",
      "execution_count": null,
      "metadata": {
        "id": "vH_UEV-QYt5x",
        "outputId": "8f42d638-79d9-44b3-949c-45fb73916052"
      },
      "outputs": [
        {
          "name": "stdout",
          "output_type": "stream",
          "text": [
            "Fare ile Survived arasındaki korelasyon: 0.26\n"
          ]
        }
      ],
      "source": [
        "#7\n",
        "import pandas as pd\n",
        "\n",
        "\n",
        "demographics = pd.read_csv(\"Data/passenger_demographics.csv\")\n",
        "survival = pd.read_csv(\"Data/passenger_survival.csv\")\n",
        "\n",
        "\n",
        "merged_df = pd.merge(demographics, survival, on=\"PassengerId\")\n",
        "\n",
        "\n",
        "correlation = merged_df['Fare'].corr(merged_df['Survived'])\n",
        "\n",
        "\n",
        "print(f\"Fare ile Survived arasındaki korelasyon: {correlation:.2f}\")\n"
      ]
    },
    {
      "cell_type": "markdown",
      "metadata": {
        "id": "_3suDJgQZm01"
      },
      "source": [
        "# **PART- 3**\n",
        "\n",
        "**Set of Questions on SQL - using sqlite3 library!**\n",
        "\n",
        "**Dataset Path: \"Data/supermarket_sales.csv\"**"
      ]
    },
    {
      "cell_type": "markdown",
      "metadata": {
        "id": "DOZouTkQh-aa"
      },
      "source": [
        "\n",
        "The Supermarket Sales Dataset is a comprehensive dataset designed to provide insights into the sales performance of a supermarket.\n",
        "\n",
        "We want to store this data in a relational database, with the following table schemas:"
      ]
    },
    {
      "cell_type": "markdown",
      "metadata": {
        "id": "8g3KN0RagrO4"
      },
      "source": [
        "# Tables\n",
        "\n",
        "## 1. Branches Table\n",
        "\n",
        "| Column   | Type  | Key      | Description                              |\n",
        "|----------|-------|----------|------------------------------------------|\n",
        "| BranchID | INTEGER  | PRIMARY  | Unique identifier for each branch        |\n",
        "| Branch | TEXT  |            |    Name of the supermarket branch        |\n",
        "| City     | TEXT  |          | City where the branch is located         |\n",
        "\n",
        "\n",
        "\n",
        "## 2. Products Table\n",
        "\n",
        "| Column      | Type  | Key      | Description                               |\n",
        "|-------------|-------|----------|-------------------------------------------|\n",
        "| ProductID | INTEGER  | PRIMARY  | Unique identifier for each product line   |\n",
        "| ProductLine | TEXT  |          | Category of the product |\n",
        "\n",
        "\n",
        "\n",
        "## 3. Orders Table\n",
        "\n",
        "| Column        | Type  | Key      | Description                                    |\n",
        "|---------------|-------|----------|------------------------------------------------|\n",
        "| OrderID       | TEXT  | PRIMARY  | Unique identifier for each order               |\n",
        "| BranchID      | INTEGER  |   FK       | Identifier for the branch of the order    |\n",
        "| ProductID   | INTEGER  |      FK    | Identifier linking to Products table ordered                      |\n",
        "| Quantity      | INTEGER |        | Number of units ordered                        |\n",
        "| UnitPrice   | REAL  |          | Price per unit of the product             |Total         | REAL  |          | Total sales value for the order               |\n",
        "| OrderDate     | TEXT  |          | Date when the order was placed                |\n",
        "| PaymentMethod | TEXT  |          | Method used for payment                       |\n",
        "| CustomerType  | TEXT  |          | Type of customer (e.g., Member, Normal)     |\n",
        "| Gender        | TEXT  |          | Gender of the customer                        |\n",
        "\n"
      ]
    },
    {
      "cell_type": "markdown",
      "metadata": {
        "id": "nWvMCCPLi2W0"
      },
      "source": [
        "Summary of Table Structures\n",
        "\n",
        "* Branches Table contains information about different supermarket branches.\n",
        "\n",
        "* Products Table details the various products available for purchase.\n",
        "* Orders Table records the transactions made, linking products and branches to specific purchases.\n"
      ]
    },
    {
      "cell_type": "markdown",
      "metadata": {
        "id": "jqFWg0pzhL9L"
      },
      "source": [
        "# **Questions** **(35 Pts)**\n",
        "\n",
        "1. Read the csv file and create this DB **(10 Pts)**\n",
        "2. Write a query to find the top 3 product lines with the highest total quantity sold, using a LIMIT statement. **(4 Pts)**\n",
        "3. Find the total revenue generated for each branch by product line **(4 Pts)**\n",
        "4. Find the total sales for each branch **(3 Pts)**\n",
        "5. Determine the number of orders placed by each gender **(3 Pts)**\n",
        "6. List the product lines sold in each branch and the number of orders **(4 Pts)**\n",
        "7. Find the highest quantity sold for a single order and the corresponding product line **(4 Pts)**\n",
        "8. Check for duplicated invoices **(3 Pts)**\n"
      ]
    },
    {
      "cell_type": "code",
      "execution_count": null,
      "metadata": {
        "id": "4Z4tAiQHlqnF",
        "outputId": "d24cac2b-18fd-47ef-d97a-497f09224943"
      },
      "outputs": [
        {
          "name": "stderr",
          "output_type": "stream",
          "text": [
            "/tmp/ipykernel_18816/1677712643.py:17: SettingWithCopyWarning: \n",
            "A value is trying to be set on a copy of a slice from a DataFrame\n",
            "\n",
            "See the caveats in the documentation: https://pandas.pydata.org/pandas-docs/stable/user_guide/indexing.html#returning-a-view-versus-a-copy\n",
            "  product.rename(columns={'Product line': 'ProductLine'}, inplace=True)\n"
          ]
        },
        {
          "data": {
            "text/plain": [
              "<sqlite3.Cursor at 0x7b66f0100840>"
            ]
          },
          "execution_count": 8,
          "metadata": {},
          "output_type": "execute_result"
        }
      ],
      "source": [
        "import pandas as pd\n",
        "import sqlite3\n",
        "\n",
        "\n",
        "csv_file_path = 'Data/supermarket_sales.csv'\n",
        "df = pd.read_csv(csv_file_path)\n",
        "\n",
        "\n",
        "\n",
        "conn = sqlite3.connect('supermarket_sales.db')\n",
        "\n",
        "df['BranchID'] = pd.factorize(df['Branch'])[0] + 1\n",
        "otherdf = df.drop_duplicates(subset=['BranchID'], keep='first')\n",
        "df['ProductID']=pd.factorize(df['Product line'])[0]+1\n",
        "product = df.drop_duplicates(subset=['ProductID'], keep='first')\n",
        "df['OrderID']=df[\"Invoice ID\"]\n",
        "branchesdf=otherdf[[\"BranchID\",\"Branch\",\"City\"]]\n",
        "product.rename(columns={'Product line': 'ProductLine'}, inplace=True)\n",
        "productsdf=product[[\"ProductID\",\"ProductLine\"]]\n",
        "df.rename(columns={'Unit price': 'UnitPrice','Date':'OrderDate','Customer type':'CustomerType','Payment':'PaymentMethod'}, inplace=True)\n",
        "ordersdf=df[[\"OrderID\",\"BranchID\",\"ProductID\",\"Quantity\",\"UnitPrice\",\"OrderDate\",\"PaymentMethod\",\"CustomerType\",\"Gender\"]]\n",
        "cursor = conn.cursor()\n",
        "cursor = conn.cursor()\n",
        "\n",
        "\n",
        "cursor.execute(\"\"\"\n",
        "CREATE TABLE IF NOT EXISTS Branches(\n",
        "BranchID INTEGER PRIMARY KEY AUTOINCREMENT,\n",
        "Branch TEXT,\n",
        "City TEXT)\"\"\")\n",
        "\n",
        "\n",
        "cursor.execute(\"\"\"\n",
        "CREATE TABLE IF NOT EXISTS Products(\n",
        "ProductId INTEGER PRIMARY KEY AUTOINCREMENT,\n",
        "Productline TEXT\n",
        "\n",
        ")\n",
        "\"\"\")\n",
        "\n",
        "cursor.execute(\"\"\"\n",
        "CREATE TABLE IF NOT EXISTS Orders (\n",
        "    OrderID TEXT PRIMARY KEY,\n",
        "    BranchID INTEGER,\n",
        "    ProductID INTEGER,\n",
        "    Quantity INTEGER,\n",
        "    UnitPrice REAL,\n",
        "    Total REAL,\n",
        "    OrderDate TEXT,\n",
        "    PaymentMethod TEXT,\n",
        "    CustomerType TEXT,\n",
        "    Gender TEXT\n",
        "\n",
        ")\"\"\")\n"
      ]
    },
    {
      "cell_type": "code",
      "execution_count": null,
      "metadata": {
        "id": "5V2Ubeyclqjc",
        "outputId": "43750ad7-b9eb-46c2-9c87-ec05880d8a68"
      },
      "outputs": [
        {
          "data": {
            "text/plain": [
              "[('Electronic accessories', 971),\n",
              " ('Food and beverages', 952),\n",
              " ('Sports and travel', 920)]"
            ]
          },
          "execution_count": 16,
          "metadata": {},
          "output_type": "execute_result"
        }
      ],
      "source": [
        "#2\n",
        "cursor.execute(\"\"\"SELECT productstable.ProductLine, SUM(orderstable.Quantity) AS TotalQuantitySold\n",
        "FROM Products productstable\n",
        "JOIN Orders orderstable ON productstable.ProductID = orderstable.ProductID\n",
        "GROUP BY productstable.ProductLine\n",
        "ORDER BY TotalQuantitySold DESC\n",
        "LIMIT 3;\n",
        "\"\"\")\n",
        "cursor.fetchall()"
      ]
    },
    {
      "cell_type": "code",
      "execution_count": null,
      "metadata": {
        "id": "qUjEH_LvlqfN",
        "outputId": "7d99e7c9-7f23-41ab-af5d-05b0c49c82e9"
      },
      "outputs": [
        {
          "name": "stdout",
          "output_type": "stream",
          "text": [
            "[('A', 'Home and lifestyle', 21349.71), ('A', 'Sports and travel', 18450.19), ('A', 'Electronic accessories', 17444.87), ('A', 'Food and beverages', 16345.81), ('A', 'Fashion accessories', 15554.77), ('A', 'Health and beauty', 11997.86), ('B', 'Sports and travel', 19036.38), ('B', 'Health and beauty', 19029.2), ('B', 'Home and lifestyle', 16713.49), ('B', 'Electronic accessories', 16239.47), ('B', 'Fashion accessories', 15631.73), ('B', 'Food and beverages', 14490.37), ('C', 'Food and beverages', 22635.1), ('C', 'Fashion accessories', 20533.4), ('C', 'Electronic accessories', 18065.69), ('C', 'Health and beauty', 15824.119999999999), ('C', 'Sports and travel', 15011.36), ('C', 'Home and lifestyle', 13233.86)]\n"
          ]
        }
      ],
      "source": [
        "\n",
        "cursor.execute(\"\"\"\n",
        "SELECT Branches.Branch, Products.Productline, SUM(Orders.Quantity * Orders.UnitPrice) AS TotalRevenue\n",
        "FROM Orders\n",
        "JOIN Branches ON Orders.BranchID = Branches.BranchID\n",
        "JOIN Products ON Orders.ProductID = Products.ProductId\n",
        "GROUP BY Branches.Branch, Products.Productline\n",
        "ORDER BY Branches.Branch, TotalRevenue DESC;\n",
        "\"\"\")\n",
        "\n",
        "branch_revenue = cursor.fetchall()\n",
        "print(branch_revenue)\n"
      ]
    },
    {
      "cell_type": "code",
      "execution_count": null,
      "metadata": {
        "id": "aZAzTF7Hlqbi",
        "outputId": "c0515a7c-ae27-4ef0-f197-3ce7ede3918d"
      },
      "outputs": [
        {
          "name": "stdout",
          "output_type": "stream",
          "text": [
            "[('A', 1859), ('C', 1831), ('B', 1820)]\n"
          ]
        }
      ],
      "source": [
        "#4\n",
        "cursor.execute(\"\"\"\n",
        "SELECT Branches.Branch, SUM(Orders.Quantity ) AS TotalSales\n",
        "FROM Orders\n",
        "JOIN Branches ON Orders.BranchID = Branches.BranchID\n",
        "GROUP BY Branches.Branch\n",
        "ORDER BY TotalSales DESC;\n",
        "\"\"\")\n",
        "\n",
        "branch_sales = cursor.fetchall()\n",
        "print(branch_sales)\n",
        "\n"
      ]
    },
    {
      "cell_type": "code",
      "execution_count": null,
      "metadata": {
        "id": "FVBfDGVolqXG",
        "outputId": "ba711786-e863-45d3-b239-6b24cb61db87"
      },
      "outputs": [
        {
          "name": "stdout",
          "output_type": "stream",
          "text": [
            "[('Female', 501), ('Male', 499)]\n"
          ]
        }
      ],
      "source": [
        "#5\n",
        "cursor.execute(\"\"\"\n",
        "SELECT Gender, COUNT(OrderID) AS NumberOfOrders\n",
        "FROM Orders\n",
        "GROUP BY Gender;\n",
        "\"\"\")\n",
        "\n",
        "gender_orders = cursor.fetchall()\n",
        "print(gender_orders)\n"
      ]
    },
    {
      "cell_type": "code",
      "execution_count": null,
      "metadata": {
        "id": "NqeB7IRalqRa",
        "outputId": "64c50e7e-9b7a-4b75-83eb-1400f144cd78"
      },
      "outputs": [
        {
          "name": "stdout",
          "output_type": "stream",
          "text": [
            "[('A', 'Home and lifestyle', 65), ('A', 'Electronic accessories', 60), ('A', 'Sports and travel', 59), ('A', 'Food and beverages', 58), ('A', 'Fashion accessories', 51), ('A', 'Health and beauty', 47), ('B', 'Sports and travel', 62), ('B', 'Fashion accessories', 62), ('B', 'Electronic accessories', 55), ('B', 'Health and beauty', 53), ('B', 'Home and lifestyle', 50), ('B', 'Food and beverages', 50), ('C', 'Food and beverages', 66), ('C', 'Fashion accessories', 65), ('C', 'Electronic accessories', 55), ('C', 'Health and beauty', 52), ('C', 'Sports and travel', 45), ('C', 'Home and lifestyle', 45)]\n"
          ]
        }
      ],
      "source": [
        "#6\n",
        "cursor.execute(\"\"\"\n",
        "SELECT Branches.Branch, Products.ProductLine, COUNT(Orders.OrderID) AS NumberOfOrders\n",
        "FROM Orders\n",
        "JOIN Branches ON Orders.BranchID = Branches.BranchID\n",
        "JOIN Products ON Orders.ProductID = Products.ProductID\n",
        "GROUP BY Branches.Branch, Products.ProductLine\n",
        "ORDER BY Branches.Branch, NumberOfOrders DESC;\n",
        "\"\"\")\n",
        "\n",
        "product_lines_orders = cursor.fetchall()\n",
        "print(product_lines_orders)\n",
        "\n"
      ]
    },
    {
      "cell_type": "code",
      "execution_count": null,
      "metadata": {
        "id": "ECIox9ZylqKY",
        "outputId": "a3335264-d290-4bee-f05c-4b087a3e1b33"
      },
      "outputs": [
        {
          "name": "stdout",
          "output_type": "stream",
          "text": [
            "[('Sports and travel', 10), ('Home and lifestyle', 10), ('Health and beauty', 10), ('Food and beverages', 10), ('Fashion accessories', 10), ('Electronic accessories', 10)]\n"
          ]
        }
      ],
      "source": [
        "#7\n",
        "cursor.execute(\"\"\"\n",
        "SELECT Products.ProductLine, MAX(Orders.Quantity) AS HighestQuantitySold\n",
        "FROM Orders\n",
        "JOIN Products ON Orders.ProductID = Products.ProductID\n",
        "GROUP BY Products.ProductLine\n",
        "ORDER BY HighestQuantitySold DESC;\n",
        "\"\"\")\n",
        "\n",
        "highest_quantity = cursor.fetchall()\n",
        "print(highest_quantity)\n"
      ]
    },
    {
      "cell_type": "code",
      "execution_count": null,
      "metadata": {
        "id": "MUWbll4RluQg",
        "outputId": "12164ca5-20c1-4818-8470-e3e8ad2a572e"
      },
      "outputs": [
        {
          "name": "stdout",
          "output_type": "stream",
          "text": [
            "[]\n"
          ]
        }
      ],
      "source": [
        "#8\n",
        "cursor.execute(\"\"\"\n",
        "SELECT OrderID, COUNT(*) AS DuplicateCount\n",
        "FROM Orders\n",
        "GROUP BY OrderID\n",
        "HAVING COUNT(*) > 1;\n",
        "\"\"\")\n",
        "\n",
        "duplicated_invoices = cursor.fetchall()\n",
        "print(duplicated_invoices)\n"
      ]
    },
    {
      "cell_type": "markdown",
      "metadata": {
        "id": "hlDZmDHMWBrk"
      },
      "source": [
        "# SUBMIT FORMAT\n",
        "\n",
        "* **<-zip>**\n",
        "  - **studentID_name_surname_hw1.ipynb**\n"
      ]
    },
    {
      "cell_type": "markdown",
      "metadata": {
        "id": "fTXBu8Dql0Iv"
      },
      "source": [
        "# PLAGIARISM\n",
        "\n",
        "All work on assignments must be done individually. You are encouraged to discuss the given assignments with your classmates, but these discussions should be carried out in an abstract way. That is, discussions related to a particular solution to a specific probem (either in actual code or in pseudocode) will not be tolerated. In short, turning in someone else’s work (including work available on the internet), in whole or in part, as your own will be considered as a violation of academic integrity. Please note that the former conditions also hold for the material attained using AI tools, including ChatGPT, GitHub Copilot, etc."
      ]
    }
  ],
  "metadata": {
    "colab": {
      "provenance": []
    },
    "kernelspec": {
      "display_name": "Python 3 (ipykernel)",
      "language": "python",
      "name": "python3"
    },
    "language_info": {
      "codemirror_mode": {
        "name": "ipython",
        "version": 3
      },
      "file_extension": ".py",
      "mimetype": "text/x-python",
      "name": "python",
      "nbconvert_exporter": "python",
      "pygments_lexer": "ipython3",
      "version": "3.12.3"
    }
  },
  "nbformat": 4,
  "nbformat_minor": 0
}